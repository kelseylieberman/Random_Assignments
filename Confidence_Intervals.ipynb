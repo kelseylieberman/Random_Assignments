{
  "nbformat": 4,
  "nbformat_minor": 0,
  "metadata": {
    "kernelspec": {
      "display_name": "Python 3",
      "language": "python",
      "name": "python3"
    },
    "language_info": {
      "codemirror_mode": {
        "name": "ipython",
        "version": 3
      },
      "file_extension": ".py",
      "mimetype": "text/x-python",
      "name": "python",
      "nbconvert_exporter": "python",
      "pygments_lexer": "ipython3",
      "version": "3.7.4"
    },
    "colab": {
      "name": "Confidence Intervals.ipynb",
      "provenance": [],
      "include_colab_link": true
    }
  },
  "cells": [
    {
      "cell_type": "markdown",
      "metadata": {
        "id": "view-in-github",
        "colab_type": "text"
      },
      "source": [
        "<a href=\"https://colab.research.google.com/github/kelseylieberman/Random_Assignments/blob/master/Confidence_Intervals.ipynb\" target=\"_parent\"><img src=\"https://colab.research.google.com/assets/colab-badge.svg\" alt=\"Open In Colab\"/></a>"
      ]
    },
    {
      "cell_type": "markdown",
      "metadata": {
        "id": "ZwD_Qp0e_1bL",
        "colab_type": "text"
      },
      "source": [
        "<a id='top'></a>\n",
        "\n",
        "# Homework 5: Confidence intervals and other things\n",
        "***\n",
        "\n",
        "**Name**: \n",
        "\n",
        "***\n",
        "\n",
        "This assignment is due on Moodle by **5 PM on Thursday July 11**. Your solutions to theoretical questions should be done in Markdown/MathJax directly below the associated question.  Your solutions to computational questions should include any specified Python code and results as well as written commentary on your conclusions.  Remember that you are encouraged to discuss the problems with your instructors and classmates, but **you must write all code and solutions on your own**.  \n",
        "\n",
        "**NOTES**: \n",
        "\n",
        "- Do **NOT** load or use any Python packages that are not available in Anaconda 3.6. \n",
        "- Some problems with code may be autograded.  If we provide a function API **do not** change it.  If we do not provide a function API then you're free to structure your code however you like. \n",
        "- Because you can technically evaluate notebook cells is a non-linear order, it's a good idea to do Cell $\\rightarrow$ Run All as a check before submitting your solutions.  That way if we need to run your code you will know that it will work as expected. \n",
        "- Submit only this Jupyter notebook to Moodle.  Do not compress it using tar, rar, zip, etc. \n",
        "- This should go without saying, but... For any question that asks you to calculate something, you **must show all work to receive credit**. Sparse or nonexistent work will receive sparse or nonexistent credit.\n",
        "\n",
        "---\n",
        "**Shortcuts:**  [Problem 1](#p1) | [Problem 2](#p2) \n",
        "\n",
        "---"
      ]
    },
    {
      "cell_type": "code",
      "metadata": {
        "scrolled": true,
        "id": "9TouthBv_1bM",
        "colab_type": "code",
        "colab": {}
      },
      "source": [
        "import numpy as np\n",
        "import matplotlib.pyplot as plt\n",
        "import pandas as pd\n",
        "import scipy.stats as stats\n",
        "%matplotlib inline"
      ],
      "execution_count": null,
      "outputs": []
    },
    {
      "cell_type": "markdown",
      "metadata": {
        "id": "7n3lXoKA_1bP",
        "colab_type": "text"
      },
      "source": [
        "---\n",
        "<a id='p1'></a>\n",
        "[Back to top](#top)\n",
        "\n",
        "\n",
        "### [55 points] Problem 1 - Exploring Confidence Intervals \n",
        "\n",
        "The [Gumbel](https://en.wikipedia.org/wiki/Gumbel_distribution) distribution is one of several distributions frequently used to model environmental extremes (for example, extreme temperatures and sea levels).  It is also fairly asymmetric, and thus interesting for investigating confidence intervals.  It is implemented in scipy.stats as [gumbel_r](https://docs.scipy.org/doc/scipy/reference/generated/scipy.stats.gumbel_r.html), where the appendix \"\\_r\" denotes the right-skewed version of the Gumbel distribution (as opposed to the left-skewed)."
      ]
    },
    {
      "cell_type": "markdown",
      "metadata": {
        "id": "itlXsiLL_1bP",
        "colab_type": "text"
      },
      "source": [
        "**Part A**: Complete the following code cell to plot a histogram of 100 realizations from the Gumbel distribution with parameters $\\mu=8$ and $\\beta=2$.  Be sure to leave this cell executed before turning in your assignment! Make your histogram grey with gold edges."
      ]
    },
    {
      "cell_type": "code",
      "metadata": {
        "id": "zHB1FrB8_1bQ",
        "colab_type": "code",
        "colab": {},
        "outputId": "e1f407b4-ceb5-4304-a91b-6fc1ed17abc7"
      },
      "source": [
        "mu = 8\n",
        "beta = 2\n",
        "n_sample = 100\n",
        "r = stats.gumbel_r.rvs(loc=mu, scale=beta, size=n_sample)\n",
        "\n",
        "fig, ax = plt.subplots(nrows=1, ncols=1, figsize=(8,4))\n",
        "plt.hist(r, color=\"grey\",ec=\"gold\", bins=20, density=True)\n",
        "ax.grid(alpha=0.25)\n",
        "ax.set_axisbelow(True)\n",
        "ax.set_xlabel('Random Variable')\n",
        "ax.set_ylabel('Probability')\n",
        "ax.set_title(r'Gumbel')\n",
        "plt.xlim([0,25])\n",
        "plt.show()\n",
        "\n",
        "print(\"empirical mean = \" + str(np.mean(r)))"
      ],
      "execution_count": null,
      "outputs": [
        {
          "output_type": "display_data",
          "data": {
            "image/png": "[encoded data removed]",
            "text/plain": [
              "<matplotlib.figure.Figure at 0x12205320>"
            ]
          },
          "metadata": {
            "tags": []
          }
        },
        {
          "output_type": "stream",
          "text": [
            "empirical mean = 8.982296367994422\n"
          ],
          "name": "stdout"
        }
      ]
    },
    {
      "cell_type": "markdown",
      "metadata": {
        "id": "3up-p4xF_1bS",
        "colab_type": "text"
      },
      "source": [
        "**Part B:** Look up the analytical mean and variance of the Gumbel distribution with parameters $\\mu=8$ and $\\beta=2$ and calculate them here by hand.  Note that the Euler–Mascheroni constant can be accessed via `np.euler_gamma`. \n",
        "\n",
        "Use the empirical mean from your sample in **Part A**, and the true variance of the Gumbel distribution to compute by hand a 95% confidence interval for the mean."
      ]
    },
    {
      "cell_type": "markdown",
      "metadata": {
        "id": "CqimJMcp_1bT",
        "colab_type": "text"
      },
      "source": [
        "$$mean = \\mu + \\beta\\gamma$$  \n",
        "$$mean = 8 + 2(0.5772156649015329) =$$ mean = **9.1544313298**\n",
        "$$variance = \\frac{\\pi^2}{6}\\beta^2$$  \n",
        "$$variance = \\frac{\\pi^2}{6}2^2 = $$\n",
        "variance = **6.57973626739**  \n",
        "$$CI = \\bar{x} \\pm z_{0.05} \\frac{\\bar{X} - \\mu}{\\sigma / \\sqrt{n}}$$\n",
        "$$= \\bar{x} \\pm z_{0.05} \\frac{8.982296367994422 - 9.1544313298}{\\sqrt{6.57973626739} / 10}$$\n",
        "$$CI = \\bar{x} \\pm z_{0.05} \\sqrt{\\frac{var(X)}{n}}$$\n",
        "$$CI = \\bar{x} \\pm z_{0.05} \\sqrt{\\frac{6.57973626739}{100}}$$\n",
        "$$CI = \\bar{x} \\pm 1.96*0.256509966032$$\n",
        "CI = **[8.47953683457, 9.48505590142]**"
      ]
    },
    {
      "cell_type": "code",
      "metadata": {
        "id": "06E3O4Du_1bT",
        "colab_type": "code",
        "colab": {},
        "outputId": "75a2fbfb-dcba-4f00-dcba-f62e38077ee6"
      },
      "source": [
        "print(8+(2*np.euler_gamma))\n",
        "print((np.pi**2)*4/6)\n",
        "print((8.982296367994422 - 9.1544313298)/((6.57973626739**(1/2))*10))\n",
        "x = (8.982296367994422 - 9.1544313298)/((6.57973626739**(1/2))*10)\n",
        "print(stats.norm.ppf(0.025))\n",
        "print(8.982296367994422 - (-1.9599639845400545*x))\n",
        "print(8.982296367994422 + (-1.9599639845400545*x))\n",
        "print((6.57973626739/100)**0.5)\n",
        "y = (6.57973626739/100)**0.5\n",
        "print(y*1.96)\n",
        "print(8.982296367994422 - y*1.96)\n",
        "print(8.982296367994422 + y*1.96)"
      ],
      "execution_count": null,
      "outputs": [
        {
          "output_type": "stream",
          "text": [
            "9.1544313298\n",
            "6.57973626739\n",
            "-0.0172134961806\n",
            "-1.9599639845400545\n",
            "8.94855853543\n",
            "9.01603420056\n",
            "0.256509966032\n",
            "0.502759533423\n",
            "8.47953683457\n",
            "9.48505590142\n"
          ],
          "name": "stdout"
        }
      ]
    },
    {
      "cell_type": "markdown",
      "metadata": {
        "id": "bToNQ_Wd_1bW",
        "colab_type": "text"
      },
      "source": [
        "**Part C:  A theoretical interlude.** When Stella O'Flaherty (the famous octopus) ran her solution code for **Part B**, she obtained a 95% confidence interval of $[8.81, 9.82]$ for the mean of the $Gum(\\mu=8, \\beta=2)$ distribution. For each of the following, explain why or why not the situation described is correct, given the technical definition of a 95% confidence interval we went over in class.\n",
        "\n",
        "**(i)** If you had no other evidence regarding true mean of the $Gum(\\mu=8, \\beta=2)$ distribution, you could say there is a 95% chance that its true mean falls between 8.81 and 9.82.\n",
        "\n",
        "**(ii)** If a class of 100 students all construct 95% confidence intervals for the mean of the $Gum(\\mu=8, \\beta=2)$ distribution, then we expect about 95 of their CIs to contain the true mean, and about 5 of them to miss the true mean.\n",
        "\n",
        "**(iii)** There is a 95% probability that any given random variable sampled from $Gum(\\mu=8, \\beta=2)$ will be between 8.81 and 9.82."
      ]
    },
    {
      "cell_type": "markdown",
      "metadata": {
        "id": "VviGLJNe_1bW",
        "colab_type": "text"
      },
      "source": [
        "**(i)** False, because...\n",
        "**(ii)** True, because this is basically the definition of a confidence interval. It is saying that 95% of CIs will contain the true mean of the whole population extrapolated from their samples. 5% of the CIs will not contain the true mean of the whole population. For a CI of 95%, 95 out of 100 should statistically contain the true mean of the population.\n",
        "**(iii)** False. Confidence Intervals can be used to make statements about the mean and/or standard deviation of a data set and it's distribution, not to make statements about random variable samples from the distribution. CIs can be used to make statements about a data set as a whole (mean is a result of analyzing the whole of a data set). Any given random variable sample cannot be usefully analyzed using a CI."
      ]
    },
    {
      "cell_type": "markdown",
      "metadata": {
        "id": "OFeWGA-G_1bW",
        "colab_type": "text"
      },
      "source": [
        "**Part D:** In this part you'll write a function to investigate the _coverage properties_ of a confidence interval for the mean of the Gumbel distribution. Complete the following function to randomly sample $m=500$ sample means with sample size $n=100$ for the Gumbel distribution with parameters $\\mu=8$ and $\\beta=2$.  For each random sample, compute the 66% confidence interval for the mean. Note that you actually know that the variance for the true population distribution is, $\\sigma^2$.  Your function should do two things: \n",
        "\n",
        "1. Report the proportion of confidence intervals that successfully cover the true mean of the distribution \n",
        "2. Make a plot of 50 randomly selected confidence intervals. Overlay the intervals on the line $y=\\textrm{True mean}$ (from **Part B**). Color confidence intervals black if they cover the true mean, and red if they don't.  \n",
        "\n",
        "Be sure to leave this cell executed before turning in your assignment!"
      ]
    },
    {
      "cell_type": "code",
      "metadata": {
        "scrolled": false,
        "id": "lhFx7Bsw_1bX",
        "colab_type": "code",
        "colab": {},
        "outputId": "4bafd19f-e365-4b57-9f38-175a76842979"
      },
      "source": [
        "def confidence_intervals(m=500, n=100):\n",
        "    mu = 8\n",
        "    beta = 2\n",
        "    means = []\n",
        "    Tmean = mu+beta*np.euler_gamma\n",
        "    Tvar = (np.pi*beta)**2/6\n",
        "    CIs = np.zeros((m,2))\n",
        "    numInRange = 0\n",
        "    for x in range(m):\n",
        "        r = stats.gumbel_r.rvs(loc=mu, scale=beta, size=n_sample)\n",
        "        means.append(np.mean(r))\n",
        "        CI66u = np.mean(r) + ((Tvar/n)**0.5)*(-1)*stats.norm.ppf((1-0.66)/2)\n",
        "        CI66l = np.mean(r) - ((Tvar/n)**0.5)*(-1)*stats.norm.ppf((1-0.66)/2)\n",
        "        CIs[x, 0] = CI66u\n",
        "        CIs[x, 1] = CI66l\n",
        "        if ((Tmean > CI66l) and (Tmean < CI66u)):\n",
        "            numInRange += 1\n",
        "            \n",
        "    \n",
        "    proportion_CIs_covering_mean = float(numInRange)/float(m)\n",
        "    print(\"proportion covering mean: {:.3f}\".format(proportion_CIs_covering_mean))\n",
        "    \n",
        "    A = np.random.choice(500, 50, replace=False)\n",
        "    fig, ax = plt.subplots(nrows=1, ncols=1, figsize=(8,4))\n",
        "    index = 0\n",
        "    for i in A:\n",
        "        if((Tmean <= CIs[i, 0]) and (Tmean >= CIs[i, 1])):\n",
        "            plt.plot((index, index), (CIs[i, 0], CIs[i, 1]), color='black')\n",
        "        else:\n",
        "            plt.plot((index, index), (CIs[i, 0], CIs[i, 1]), color='red')\n",
        "        index += 1\n",
        "    plt.axhline(y=Tmean, linestyle='dashed', color='green')\n",
        "    plt.show()\n",
        "    \n",
        "    \n",
        "    return\n",
        "    \n",
        "confidence_intervals(500, 100)"
      ],
      "execution_count": null,
      "outputs": [
        {
          "output_type": "stream",
          "text": [
            "proportion covering mean: 0.646\n"
          ],
          "name": "stdout"
        },
        {
          "output_type": "display_data",
          "data": {
            "image/png": "[encoded data removed]",
            "text/plain": [
              "<matplotlib.figure.Figure at 0x127b3c88>"
            ]
          },
          "metadata": {
            "tags": []
          }
        }
      ]
    },
    {
      "cell_type": "markdown",
      "metadata": {
        "id": "QKsidhHj_1bZ",
        "colab_type": "text"
      },
      "source": [
        "**Part E:** Does the proportion of confidence intervals that cover the true mean of the distribution agree with the theory described in class?  Justify your conclusion. "
      ]
    },
    {
      "cell_type": "markdown",
      "metadata": {
        "id": "VwXdgYRY_1bZ",
        "colab_type": "text"
      },
      "source": [
        "Yes, the proportion of confidence intervals that cover the true mean of the distribution agree with the theory described in class because roughly 66% of the means from the 500 sammples lie within the confidence interval for the theoretical mean. So, the 66% confidence interval correctly estimates the number of trials from random samples that will fall within the range of the true mean and lie within the confidence interval. The data supports the definition of a confidence interval of 66%."
      ]
    },
    {
      "cell_type": "markdown",
      "metadata": {
        "collapsed": true,
        "id": "bKR6dmt1_1ba",
        "colab_type": "text"
      },
      "source": [
        "---\n",
        "\n",
        "<a id='p2'></a>\n",
        "[Back to top](#top)\n",
        "\n",
        "### [45 points] Problem 2 - Freethrows\n",
        "***\n",
        "\n",
        "Keep your skills sharp by answering these straightforward questions."
      ]
    },
    {
      "cell_type": "markdown",
      "metadata": {
        "id": "3Wt5EXGz_1ba",
        "colab_type": "text"
      },
      "source": [
        "**Part A**: <font color='green'>You are driving through the paint toward the basket when Steph Curry fouls you. You step to the line to sink this freethrow shot, which is delivered in the form of a CSCI3022 problem:</font>\n",
        "\n",
        "You have a shuffled deck of cards. It includes the usual 52 cards AND three special additional Octopus cards. You flip over the cards one by one, without replacing them in the deck. You count how many cards you'll have to flip until you flip over the second Octopus.  You repeat this many times. Simulate this process. Plot a histogram with binsize=1 of the outcomes, in lightgrey with white outline. Compute the mean, median, and mode for this dataset, indicate them on the plot too, using linstyles of green dashed, pink dotted, and black solid, respectively. Look up how to do a legend in MatPlotLib, and label your histogram, mean, median.\n",
        "***"
      ]
    },
    {
      "cell_type": "code",
      "metadata": {
        "id": "485milW2_1bb",
        "colab_type": "code",
        "colab": {},
        "outputId": "3bf1e7d5-321d-4de4-b191-be04b267d446"
      },
      "source": [
        "def secOct(n):\n",
        "    A = []\n",
        "    for x in range(n):\n",
        "        deck = [i for i in range(55)]\n",
        "        count = 0\n",
        "        numCards = 0\n",
        "        while count < 2:\n",
        "            card = np.random.choice(deck)\n",
        "            deck.remove(card)\n",
        "            numCards += 1\n",
        "            if (card == 54 or card == 53 or card == 52):\n",
        "                count += 1\n",
        "        A.append(numCards)\n",
        "    return A\n",
        "\n",
        "fig,ax=plt.subplots(figsize=(16,4))\n",
        "data = secOct(10000)\n",
        "mean = np.mean(data)\n",
        "median = np.median(data)\n",
        "mode = stats.mode(data)\n",
        "y, x, _  = plt.hist(data, bins=np.arange(min(data), max(data) + 1, 1)-0.5,color=\"lightgrey\", ec='white')\n",
        "ax.set_title(\"Frequency data from 100 realizations of the Gumbel Distribution\")\n",
        "ax.set_xlabel(\"Number of Cards Before 2 Octopuses\")\n",
        "ax.set_ylabel(\"Frequency\")\n",
        "plt.axis([0, 55, 0, max(y)+10])\n",
        "plt.xticks(np.arange(min(data), max(data), step=1))\n",
        "ax.grid(True, alpha=0.25)\n",
        "plt.axvline(x=mean, linestyle='dashed', color='green', label=\"mean\", linewidth=2)\n",
        "plt.axvline(x=median, linestyle='dotted', color='hotpink', label=\"median\", linewidth = 2)\n",
        "plt.axvline(x=mode[0], linestyle='solid', color='black', label=\"mode\")\n",
        "plt.legend( ('mean', 'median', 'mode'))\n",
        "        "
      ],
      "execution_count": null,
      "outputs": [
        {
          "output_type": "execute_result",
          "data": {
            "text/plain": [
              "<matplotlib.legend.Legend at 0x15f6c8d0>"
            ]
          },
          "metadata": {
            "tags": []
          },
          "execution_count": 94
        },
        {
          "output_type": "display_data",
          "data": {
            "image/png": "[encoded data removed]",
            "text/plain": [
              "<matplotlib.figure.Figure at 0x16172f60>"
            ]
          },
          "metadata": {
            "tags": []
          }
        }
      ]
    },
    {
      "cell_type": "markdown",
      "metadata": {
        "id": "mojCY10B_1bd",
        "colab_type": "text"
      },
      "source": [
        "**Part B**: <font color='green'>You sink your first free throw and immediately get dap from your teammates, Oscar O'Flaherty and Octavia O'Flaherty. You prepare to take another shot, which—and you're not going to believe this—is another CSCI3022 problem:</font>\n",
        "\n",
        "In general, which is wider: a 95% confidence interval or a 99% confidence interval? How would you explain this to your younger sibling, who is not a statistician?\n",
        "***"
      ]
    },
    {
      "cell_type": "markdown",
      "metadata": {
        "collapsed": true,
        "id": "GHke-xar_1bd",
        "colab_type": "text"
      },
      "source": [
        "\"Wider\" is an odd term to use, but in general, a 99% confidence interval is wider. This means that there is a 99% chance that the data from a sample population accurately reresents the data if it were taken from the total population. I other words, a study with a 99% confidence interval is more accurate than a study with a 95% confidence interval, when it is used to represent the entire population of a study."
      ]
    },
    {
      "cell_type": "markdown",
      "metadata": {
        "id": "KbpAe_12_1be",
        "colab_type": "text"
      },
      "source": [
        "**Part C**: <font color='green'>The crowd is silent. Everything is slow motion. You're literally in the air, releasing what looks to be a perfect shot to tie the match. As you release the ball, a hand appears to block it. It is Kevin Durant. :( \n",
        "\n",
        "Luckily, his fingertips also brush against your arm. That's a foul, and everyone saw it. Back to the line. Back to CSCI3022:</font>\n",
        "\n",
        "Let $X$ be a normally-distributed random variable. You draw from it and get these values, stored in the numpy array **durant**, below. Compute a 95% confidence interval for the _standard deviation_.\n",
        "***"
      ]
    },
    {
      "cell_type": "code",
      "metadata": {
        "id": "gSqmed2A_1be",
        "colab_type": "code",
        "colab": {}
      },
      "source": [
        "durant = np.array([3.7778,3.9459,3.8248,4.1111,4.0180,4.0898,4.0380,3.9273,3.9614,3.8387])"
      ],
      "execution_count": null,
      "outputs": []
    },
    {
      "cell_type": "code",
      "metadata": {
        "id": "b7T7Z5xu_1bg",
        "colab_type": "code",
        "colab": {},
        "outputId": "36cd4110-bae9-4c2e-e3bc-a85ad337e9e5"
      },
      "source": [
        "s = np.std(durant)\n",
        "stats.norm.interval(0.95, loc=10, scale=s/(len(durant)**(1/2)))"
      ],
      "execution_count": null,
      "outputs": [
        {
          "output_type": "execute_result",
          "data": {
            "text/plain": [
              "(9.788782349882137, 10.211217650117863)"
            ]
          },
          "metadata": {
            "tags": []
          },
          "execution_count": 93
        }
      ]
    },
    {
      "cell_type": "markdown",
      "metadata": {
        "id": "rQrS9pLx_1bj",
        "colab_type": "text"
      },
      "source": [
        "**Part D**: <font color='green'>\"Draymond Green has it all, in spite of living in the Bay Area,\" you think to yourself. \"But he doesn't have this shot...\" You're all over him, and he's going to have to pass. You can see the irritation in his eyes. Then you realize that it's not irritation, and he's not being distracted by your superb defense. He's being distracted by this CSCI3022 problem:</font>\n",
        "\n",
        "If you're doing quality control for the average strength of carbon fiber that will be used in airplane construction, and your alternative hypothesis is that the strength of the carbon is below tolerance, and therefore unsafe, would you rather have a low Type I error rate or a low Type II error rate? Explain.\n",
        "\n",
        "***"
      ]
    },
    {
      "cell_type": "markdown",
      "metadata": {
        "id": "wTZdJJ3i_1bj",
        "colab_type": "text"
      },
      "source": [
        "I would rather have a low Type II error rate. A Type I error is rejecting the Null Hypothesis when the Null is true. In this case the Null hypothesis is that the strength of the carbon is at or above tolerance. Accidentally rejecting carbon fiber that is at or above tolerance is probably costly and unfortunate, but won't result in any safety issues. A Type II error means failing to reject the Null Hypothesis when the Null is false. In this case that would mean failing to reject pieces of carbon fiber that are not above tolerance, or accepting pieces of carbon fiber that are below tolerance. This could cauuse safety and/or reliability issues with the airplanes, so I would want a very low Type II error rate. "
      ]
    },
    {
      "cell_type": "markdown",
      "metadata": {
        "id": "jZCS4d2u_1bj",
        "colab_type": "text"
      },
      "source": [
        "**Part E**: <font color='green'>You are watching tape footage at halftime with your personal trainer, Stella O'Flaherty. You gotta focus up if you're going to match Klay Thompson's speed in the second half. You take a sip of Gatorade and Dr. O'Flaherty suggests that you do the following CSCI3022 problem:</font>\n",
        "\n",
        "You measure 53 suckers from baby reef octopuses and find that they are, on average, 45.2 mm wide, with a standard devaition of 30.4mm. \n",
        "\n",
        "Then you measure 41 suckers from from baby dumbo octopuses and find that they are, on average, 52.8 mm wide, with a standard deviation of 22.8 mm. \n",
        "\n",
        "Is there statistical evidence at the 0.05 significance level that the true mean of baby dumbo octopus sucker width exceeds the true mean of baby reef octopus sucker width by more than 6 mm?  Use a test of your choice.\n",
        "\n",
        "***"
      ]
    },
    {
      "cell_type": "code",
      "metadata": {
        "id": "MfJVXweW_1bk",
        "colab_type": "code",
        "colab": {},
        "outputId": "3f9515a3-b692-403b-c518-29cc04082e6f"
      },
      "source": [
        "1 - stats.t.cdf(1.505, 92) #to get t-table value."
      ],
      "execution_count": null,
      "outputs": [
        {
          "output_type": "execute_result",
          "data": {
            "text/plain": [
              "0.0678748304025053"
            ]
          },
          "metadata": {
            "tags": []
          },
          "execution_count": 90
        }
      ]
    },
    {
      "cell_type": "markdown",
      "metadata": {
        "id": "NI2npdWK_1bm",
        "colab_type": "text"
      },
      "source": [
        "$$n_r = 53, \\bar{x}_r = 45.2, s_r = 30.4$$\n",
        "$$n_d = 41, \\bar{x}_d = 52.8, s_d = 22.8$$\n",
        "\n",
        "$H_0$: $\\mu_d - \\mu_r <= 6$  \n",
        "$H_1$: $\\mu_d - \\mu_r > 6$  \n",
        "t-test.  \n",
        "$t = \\frac{(\\bar{x_d} - \\bar{x_r}) - (\\mu_d - \\mu_r)}{\\sqrt{\\frac{s_d}{n_d}+\\frac{s_r}{n_r}}}$  \n",
        "$t = \\frac{(52.8 - 45.2) - (6)}{\\sqrt{\\frac{22.8}{41}+\\frac{30.4}{53}}}$  \n",
        "$t = \\frac{(1.6)}{\\sqrt{0.556+0.574}}$  \n",
        "$t = \\frac{(1.6)}{1.063}$  \n",
        "$t = 1.505$  \n",
        "\n",
        "Degrees of Freedom, df = $n_r + n_d - 2$ = $53+41-2$ = 92.  \n",
        "p-value = t-table(t, df) = t-table(1.505, 92) = 0.0679  \n",
        "p = 0.0679 > $\\alpha = 0.05$  \n",
        "Since p is greater than $\\alpha$, we fail to reject the Null Hypothesis and therefore there is not statistical evidence at the 0.05 significance level that the true mean od baby dumbo octopus sucker width exceeds the true mean of baby reef octopus sucker width by more than 6 mm\n"
      ]
    },
    {
      "cell_type": "code",
      "metadata": {
        "id": "OAY0TjeE_1bn",
        "colab_type": "code",
        "colab": {}
      },
      "source": [
        ""
      ],
      "execution_count": null,
      "outputs": []
    }
  ]
}