{
  "nbformat": 4,
  "nbformat_minor": 0,
  "metadata": {
    "kernelspec": {
      "display_name": "Python 3",
      "language": "python",
      "name": "python3"
    },
    "language_info": {
      "codemirror_mode": {
        "name": "ipython",
        "version": 3
      },
      "file_extension": ".py",
      "mimetype": "text/x-python",
      "name": "python",
      "nbconvert_exporter": "python",
      "pygments_lexer": "ipython3",
      "version": "3.7.4"
    },
    "colab": {
      "name": "Stochastic Gradient Descent.ipynb",
      "provenance": [],
      "include_colab_link": true
    }
  },
  "cells": [
    {
      "cell_type": "markdown",
      "metadata": {
        "id": "view-in-github",
        "colab_type": "text"
      },
      "source": [
        "<a href=\"https://colab.research.google.com/github/kelseylieberman/Random_Assignments/blob/master/Stochastic_Gradient_Descent.ipynb\" target=\"_parent\"><img src=\"https://colab.research.google.com/assets/colab-badge.svg\" alt=\"Open In Colab\"/></a>"
      ]
    },
    {
      "cell_type": "markdown",
      "metadata": {
        "deletable": false,
        "editable": false,
        "nbgrader": {
          "cell_type": "markdown",
          "checksum": "62bf88c99cd0d6e2c37def0a8b14df50",
          "grade": false,
          "grade_id": "cell-91b5455492f6a6b0",
          "locked": true,
          "schema_version": 3,
          "solution": false,
          "task": false
        },
        "id": "qxFbUiucr38c",
        "colab_type": "text"
      },
      "source": [
        "# Homework 5\n",
        "\n",
        "This homeworks consists of two parts: theory and applications. You will:\n",
        "\n",
        "In the **theory** part:\n",
        "1. Practice applying the definitions of **convexity**\n",
        "2. (Extra Credit, at the end): Prove a statement regarding **gradient descent**.\n",
        "\n",
        "In the **applications** part:\n",
        "1. Code a simple gradient descent procedure and analyze the effects of **step size** and **noise**. \n",
        "2. Use your understanding of SVM to perform image classification on the dataset [Fashion MNIST](https://github.com/zalandoresearch/fashion-mnist). For this task we will use `skimage` Python library to generate special image features to feed to the SVM classifier. \n"
      ]
    },
    {
      "cell_type": "markdown",
      "metadata": {
        "deletable": false,
        "editable": false,
        "nbgrader": {
          "cell_type": "markdown",
          "checksum": "68a9593a19fdd35cfad13d587d60be0e",
          "grade": false,
          "grade_id": "cell-c4a56584f30dd58c",
          "locked": true,
          "schema_version": 3,
          "solution": false,
          "task": false
        },
        "id": "NmAfrk3Or38d",
        "colab_type": "text"
      },
      "source": [
        "## Part 1: Theory / Written Problems (6 pts)\n",
        "\n",
        "You must attempt all problems for credit. Please ask for help early if you are unsure.\n",
        "\n",
        "### Question 1 (6 pts)\n",
        "\n",
        "Show using a couple equations or inequalities) whether the following functions are or are not **convex**. Your argument must contain more than just a graphical argument.\n",
        "\n",
        "1.  $ f(x) = x^2 $, where $x \\in \\mathbb{R}$ is a scalar.\n",
        "2. $ f(x) = \\sin(x) $ where x is a scalar.\n",
        "3. $ f(x) = x^T A x + b^Tx + c$, where $A$ is a positive definite $d \\times d$ matrix and $x \\in \\mathbb{R}^d$ is a d-dimensional vector. $b$ is a constant d-dimensional vector and $c$ is a constant scalar."
      ]
    },
    {
      "cell_type": "markdown",
      "metadata": {
        "deletable": false,
        "nbgrader": {
          "cell_type": "markdown",
          "checksum": "e7c2f7be4444e7dc18454fc794191735",
          "grade": true,
          "grade_id": "cell-e721430b607a9d26",
          "locked": false,
          "points": 6,
          "schema_version": 3,
          "solution": true,
          "task": false
        },
        "id": "92WKPfLzr38e",
        "colab_type": "text"
      },
      "source": [
        "A function is convex if and only if it's Hessian matrix is positive semidefinite for all possible values of its inputs.\n",
        "\n",
        "1.) $f$''$(x) = 2 \\geq 0$ $ \\forall x \\in \\mathbb{R}$.\n",
        "Since the second derivative of $f(x)$ is a positive constant, meaning positive for all values of its singular input we know that the function is strictly convex.\n",
        "\n",
        "2.)$f$''$(x) = -\\sin(x) \\ngeq 0$ $\\forall x \\in \\mathbb{R}$. Since the second derivative of $f(x)$ is not greater than 0 for all possible values of x, the function $f(x)$ is not convex.It is only convex on the interval [$\\pi$, 2$\\pi$] and any positive whole-number multiples of that interval.\n",
        "                     \n",
        "3.)f(x) is convex because:\n",
        "    $x^T A x$ $>$ 0 $\\forall x$ because A is a positive definite matrix and that is a property of positive definite matrices.\n",
        "    $f$''$(x)$ $>$ 0 $\\forall x \\in \\mathbb{R}^d$. \"b\" and \"c\" are constants and both go to 0 in the first derivative of f(x). The second derivative of the remaining $x^T A x$ is some row vector with magnitude $2 \\times d$, meaning the second derivative of the function is also positive for all x, proving that f(x) is convex."
      ]
    },
    {
      "cell_type": "markdown",
      "metadata": {
        "deletable": false,
        "editable": false,
        "nbgrader": {
          "cell_type": "markdown",
          "checksum": "a4a007319ba144c9cba56260174328bd",
          "grade": false,
          "grade_id": "cell-0da82143bd3ed776",
          "locked": true,
          "schema_version": 3,
          "solution": false,
          "task": false
        },
        "id": "H70ktTXTr38e",
        "colab_type": "text"
      },
      "source": [
        "## Part 2: Gradient Descent Coding Exercise (10 pts)\n",
        "\n",
        "Consider the function given below:\n",
        "$$\\psi(x) = \\bigg(\\frac{x}{2}-3\\bigg)^2$$\n",
        "\n",
        "If the task was to find the minima of the function above, one way of doing this would be to calculate the derivative of the function $f'(x)$ and find the value of $x$ for which $f'(x) = 0$. <br>\n",
        "\n",
        "But we learned another technique in class which also involved calculating derivatives(partial derivatives) with respect to parameters which would minimize a  loss function for a machine learning algorithm for which finding the optima isn't as straight forward as described in the paragraph above. This technique is __Gradient Descent__. \n",
        "\n",
        "It involves initializing the parameter to be optimized at a random location in the landscape(curve described by the function) of the function and taking controlled steps toward the optima of an amount proportional to the negative of the gradient at that current point. Say we were trying to optimize a function $f(\\Theta)$ which is a function of $\\Theta = \\{\\theta_i | i\\in\\{1...n\\}\\}$. Taking a step toward the minima would look as below:\n",
        "$$ \\theta_i = \\theta_i - \\alpha \\frac{\\delta}{\\delta\\theta_i}f(\\Theta)$$\n",
        "\n",
        "In the following sections we shall optimize the single parameter function $\\psi(x)$ using gradient descent."
      ]
    },
    {
      "cell_type": "code",
      "metadata": {
        "deletable": false,
        "editable": false,
        "nbgrader": {
          "cell_type": "code",
          "checksum": "5b8223073662e8916adbba83bf62831d",
          "grade": false,
          "grade_id": "cell-5f246c5bf017acd3",
          "locked": true,
          "schema_version": 3,
          "solution": false,
          "task": false
        },
        "id": "Nct5mUJXr38f",
        "colab_type": "code",
        "colab": {}
      },
      "source": [
        "import numpy as np\n",
        "import matplotlib.pyplot as plt\n",
        "import time"
      ],
      "execution_count": 1,
      "outputs": []
    },
    {
      "cell_type": "code",
      "metadata": {
        "deletable": false,
        "nbgrader": {
          "cell_type": "code",
          "checksum": "1bbefbda5b766c11cc4bf119d06674b1",
          "grade": false,
          "grade_id": "cell-9d06051959c79ae5",
          "locked": false,
          "schema_version": 3,
          "solution": true,
          "task": false
        },
        "id": "Lo6WdaCar38i",
        "colab_type": "code",
        "colab": {}
      },
      "source": [
        "def function(x):\n",
        "    \"\"\"\n",
        "    Given a variable / np.array of variables x return the corresponding values of function descibed above\n",
        "    Note that this x can be single numeric variable or a numpy array\n",
        "    \n",
        "    Args: x - single numeric variable or a np.array\n",
        "          \n",
        "    Returns: \n",
        "          y - corresponding value for the function described\n",
        "    \"\"\"\n",
        "    # YOUR CODE HERE\n",
        "    return (((x/2)-3)**2)"
      ],
      "execution_count": 2,
      "outputs": []
    },
    {
      "cell_type": "code",
      "metadata": {
        "deletable": false,
        "editable": false,
        "nbgrader": {
          "cell_type": "code",
          "checksum": "2e19cb64de96845f29262838db87a22a",
          "grade": true,
          "grade_id": "cell-1ee3372bca36abaa",
          "locked": true,
          "points": 2,
          "schema_version": 3,
          "solution": false,
          "task": false
        },
        "id": "3fsu89llr38k",
        "colab_type": "code",
        "colab": {}
      },
      "source": [
        "# Here are a couple of tests to check your implementation\n",
        "test_fx = function(2.0)\n",
        "assert( test_fx == 4)\n",
        "test_fx2 = function(6.0)\n",
        "assert(test_fx2 == 0.0)"
      ],
      "execution_count": 3,
      "outputs": []
    },
    {
      "cell_type": "code",
      "metadata": {
        "deletable": false,
        "nbgrader": {
          "cell_type": "code",
          "checksum": "a42eb3b98349a896408a4a454aaa06e2",
          "grade": false,
          "grade_id": "cell-a03727a0b3870cf2",
          "locked": false,
          "schema_version": 3,
          "solution": true,
          "task": false
        },
        "id": "LlvY5IK8r38m",
        "colab_type": "code",
        "colab": {}
      },
      "source": [
        "def gradient(x):\n",
        "    \"\"\"\n",
        "    Given a numeric variable x calculate the corresponding gradient value which is the value of f'(x)\n",
        "    \n",
        "    Args: x - single numeric variable\n",
        "          \n",
        "    Returns: \n",
        "          delta - corresponding value for the derivative of the function being considered\n",
        "    \"\"\"\n",
        "    # YOUR CODE HERE\n",
        "    return ((x/2)-3)"
      ],
      "execution_count": 4,
      "outputs": []
    },
    {
      "cell_type": "code",
      "metadata": {
        "deletable": false,
        "editable": false,
        "nbgrader": {
          "cell_type": "code",
          "checksum": "d4247f6ca83be2edd8807c8a051614c8",
          "grade": true,
          "grade_id": "cell-123b8a56f741ab41",
          "locked": true,
          "points": 2,
          "schema_version": 3,
          "solution": false,
          "task": false
        },
        "id": "KdBNtxelr38o",
        "colab_type": "code",
        "colab": {}
      },
      "source": [
        "test_fx_grad = gradient(2.0)\n",
        "assert( test_fx_grad == -2)\n",
        "assert(gradient(6.0) == 0.0)"
      ],
      "execution_count": 5,
      "outputs": []
    },
    {
      "cell_type": "code",
      "metadata": {
        "deletable": false,
        "nbgrader": {
          "cell_type": "code",
          "checksum": "267db163ffd0b47f45cc0e708fadab76",
          "grade": true,
          "grade_id": "cell-79bcf480ee20775b",
          "locked": false,
          "points": 2,
          "schema_version": 3,
          "solution": true,
          "task": false
        },
        "id": "NBUcZJwhr38q",
        "colab_type": "code",
        "colab": {}
      },
      "source": [
        "def gradient_descent(x, alpha):\n",
        "    \"\"\"\n",
        "    Given a numeric variable x calculate the corresponding gradient value which is the value of f'(x)\n",
        "    \n",
        "    You should terminate your function when either \n",
        "    \n",
        "    1. 1000 steps have been reached\n",
        "    or\n",
        "    2. The norm of the step size is less than some fixed, small value (like 1e-3)\n",
        "    \n",
        "    Args: \n",
        "        x - single numeric variable or a np.array from where the optimization must start.\n",
        "        alpha - learning rate / step size to control the updates made to x during the optimization process\n",
        "        \n",
        "          \n",
        "    Returns: \n",
        "          path (np.ndarray) that contains the values x takes while approaching the minima\n",
        "          steps (int) that is the number of steps it had to take to reach there\n",
        "    \"\"\"\n",
        "    # YOUR CODE HERE\n",
        "    path = [x]\n",
        "    step_size = 999\n",
        "    steps = 0\n",
        "    x_i = 0\n",
        "    x_prev = x\n",
        "    while steps < 1000 and abs(step_size) > 0.001:\n",
        "        x_i = x_prev - alpha*gradient(x_prev)  #increment x by step size\n",
        "        step_size = gradient(x_prev) #step size\n",
        "        steps += 1 #increment steps\n",
        "        path.append(x_i) #append location of x to path\n",
        "        x_prev = x_i\n",
        "    return np.array(path), steps"
      ],
      "execution_count": 6,
      "outputs": []
    },
    {
      "cell_type": "markdown",
      "metadata": {
        "deletable": false,
        "editable": false,
        "nbgrader": {
          "cell_type": "markdown",
          "checksum": "b0c8082861c329d903578473a4982df7",
          "grade": false,
          "grade_id": "cell-e7bd750d96ed123a",
          "locked": true,
          "schema_version": 3,
          "solution": false,
          "task": false
        },
        "id": "-9nNfwwBr38t",
        "colab_type": "text"
      },
      "source": [
        "4. Complete the function below that tracks the paths followed(different values of $x$ as you perform the updates) and number of steps taken by gradient descent for $x$ initialized at specific value and a range of alpha values specified and stores the results in a dicitionary indexed on the alpha values. Structure of the Dictionary returned has been described below. \n",
        "\n",
        "The following cell is a test which get the results for $x=-20.0$ and $\\alpha$ values `[0.0001, 0.01, 0.1, 0.2, 1.0, 3.0, 5.0]` and prints number of steps taken for each alpha value. "
      ]
    },
    {
      "cell_type": "code",
      "metadata": {
        "deletable": false,
        "nbgrader": {
          "cell_type": "code",
          "checksum": "7ecc16bf78adff9e409163d391a21e5b",
          "grade": false,
          "grade_id": "cell-062d8bbe8db86795",
          "locked": false,
          "schema_version": 3,
          "solution": true,
          "task": false
        },
        "id": "wSEdpH6dr38t",
        "colab_type": "code",
        "colab": {
          "base_uri": "https://localhost:8080/",
          "height": 136
        },
        "outputId": "e201353b-0c7f-41dc-dd32-1d7f501d1390"
      },
      "source": [
        "def optimize_and_evaluate(x, alphas):\n",
        "    \"\"\"\n",
        "    Given a numeric variable x which contains the starting point in the function curve\n",
        "    and the set of learning rates provided in alphas track the path followed and steps while performing gradient\n",
        "    descent using gradient_descent function you wrote above and return it in a dictionary indexed on alpha values.\n",
        "    \n",
        "    Args: \n",
        "        x - single numeric variable or a np.array from where the optimization must start.\n",
        "        alphas - learning rates / step sizes to control the updates made to x during the optimization process\n",
        "        \n",
        "          \n",
        "    Returns: \n",
        "          gradient_descents ( dict() ) which has the following structure\n",
        "          {\n",
        "              alpha_1 : {\n",
        "                  path : np.ndarray(),\n",
        "                  steps : int\n",
        "              }\n",
        "              ...\n",
        "          }\n",
        "          \n",
        "          eg. \n",
        "          {\n",
        "              0.1 : {\n",
        "                  path: [1,2,3...],\n",
        "                  steps : 10\n",
        "              },\n",
        "              0.2 : {\n",
        "                  path: [1,2,3...],\n",
        "                  steps : 10\n",
        "              },... \n",
        "          }\n",
        "    \"\"\"\n",
        "    # YOUR CODE HERE\n",
        "    gds = {}\n",
        "    for alpha in alphas:\n",
        "        gd = {'path': x, 'steps' : 0}\n",
        "        gd['path'], gd['steps'] = gradient_descent(x, alpha)\n",
        "        gds[alpha] = gd\n",
        "        \n",
        "    return gds\n",
        "\n",
        "alphas = [0.0001, 0.01, 0.1, 0.2, 1.0, 3.0, 5.0]\n",
        "x = -20.0\n",
        "result = optimize_and_evaluate(x, alphas)\n",
        "for alpha in alphas:\n",
        "    print(result[alpha]['steps'])"
      ],
      "execution_count": 7,
      "outputs": [
        {
          "output_type": "stream",
          "text": [
            "1000\n",
            "1000\n",
            "186\n",
            "91\n",
            "15\n",
            "15\n",
            "1000\n"
          ],
          "name": "stdout"
        }
      ]
    },
    {
      "cell_type": "code",
      "metadata": {
        "deletable": false,
        "editable": false,
        "nbgrader": {
          "cell_type": "code",
          "checksum": "2a6087c3965085a60f9af83643082e6d",
          "grade": true,
          "grade_id": "cell-993e0c0f553b365a",
          "locked": true,
          "points": 2,
          "schema_version": 3,
          "solution": false,
          "task": false
        },
        "id": "jT69Sewlr38w",
        "colab_type": "code",
        "colab": {
          "base_uri": "https://localhost:8080/",
          "height": 136
        },
        "outputId": "a67c4852-1b23-49e3-a77a-a6660098e366"
      },
      "source": [
        "# Runs your code above and prints the number of steps until termination.\n",
        "alphas = [0.0001, 0.01, 0.1, 0.2, 1.0, 3.0, 5.0]\n",
        "x = -20.0\n",
        "result = optimize_and_evaluate(x, alphas)\n",
        "for alpha in alphas:\n",
        "    print(result[alpha]['steps'])"
      ],
      "execution_count": 8,
      "outputs": [
        {
          "output_type": "stream",
          "text": [
            "1000\n",
            "1000\n",
            "186\n",
            "91\n",
            "15\n",
            "15\n",
            "1000\n"
          ],
          "name": "stdout"
        }
      ]
    },
    {
      "cell_type": "markdown",
      "metadata": {
        "deletable": false,
        "editable": false,
        "nbgrader": {
          "cell_type": "markdown",
          "checksum": "664cf0e9e9a78fbf44aa9658675ddf0e",
          "grade": false,
          "grade_id": "cell-c8d981a952139e04",
          "locked": true,
          "schema_version": 3,
          "solution": false,
          "task": false
        },
        "id": "uDfuBvTfr38y",
        "colab_type": "text"
      },
      "source": [
        "5. The below code plots the results of the procedure which you have written. Inspect the plots and answer the below questions."
      ]
    },
    {
      "cell_type": "code",
      "metadata": {
        "id": "W2d9Ddk7r38y",
        "colab_type": "code",
        "colab": {
          "base_uri": "https://localhost:8080/",
          "height": 1000
        },
        "outputId": "3580e6fd-3db4-47f6-9020-0d6cca3f0646"
      },
      "source": [
        "X = np.linspace(-30.0, 30, 200)\n",
        "y = function(X)\n",
        "\n",
        "for alpha in alphas:\n",
        "    plt.plot(X, y)\n",
        "    plt.plot(result[alpha]['path'], function(result[alpha]['path']), color = \"red\")\n",
        "    plt.show()"
      ],
      "execution_count": 9,
      "outputs": [
        {
          "output_type": "display_data",
          "data": {
            "image/png": "[encoded data removed]",
            "text/plain": [
              "<Figure size 432x288 with 1 Axes>"
            ]
          },
          "metadata": {
            "tags": [],
            "needs_background": "light"
          }
        },
        {
          "output_type": "display_data",
          "data": {
            "image/png": "[encoded data removed]",
            "text/plain": [
              "<Figure size 432x288 with 1 Axes>"
            ]
          },
          "metadata": {
            "tags": [],
            "needs_background": "light"
          }
        },
        {
          "output_type": "display_data",
          "data": {
            "image/png": "[encoded data removed]",
            "text/plain": [
              "<Figure size 432x288 with 1 Axes>"
            ]
          },
          "metadata": {
            "tags": [],
            "needs_background": "light"
          }
        },
        {
          "output_type": "display_data",
          "data": {
            "image/png": "[encoded data removed]",
            "text/plain": [
              "<Figure size 432x288 with 1 Axes>"
            ]
          },
          "metadata": {
            "tags": [],
            "needs_background": "light"
          }
        },
        {
          "output_type": "display_data",
          "data": {
            "image/png": "[encoded data removed]",
            "text/plain": [
              "<Figure size 432x288 with 1 Axes>"
            ]
          },
          "metadata": {
            "tags": [],
            "needs_background": "light"
          }
        },
        {
          "output_type": "display_data",
          "data": {
            "image/png": "[encoded data removed]",
            "text/plain": [
              "<Figure size 432x288 with 1 Axes>"
            ]
          },
          "metadata": {
            "tags": [],
            "needs_background": "light"
          }
        },
        {
          "output_type": "stream",
          "text": [
            "/usr/local/lib/python3.6/dist-packages/ipykernel_launcher.py:12: RuntimeWarning: overflow encountered in square\n",
            "  if sys.path[0] == '':\n",
            "/usr/local/lib/python3.6/dist-packages/matplotlib/ticker.py:2161: RuntimeWarning: overflow encountered in multiply\n",
            "  steps = self._extended_steps * scale\n"
          ],
          "name": "stderr"
        },
        {
          "output_type": "display_data",
          "data": {
            "image/png": "[encoded data removed]",
            "text/plain": [
              "<Figure size 432x288 with 1 Axes>"
            ]
          },
          "metadata": {
            "tags": [],
            "needs_background": "light"
          }
        }
      ]
    },
    {
      "cell_type": "markdown",
      "metadata": {
        "deletable": false,
        "editable": false,
        "nbgrader": {
          "cell_type": "markdown",
          "checksum": "7cd792ed394c779231cf2853b6cab81b",
          "grade": false,
          "grade_id": "cell-7eb3cdf38f32df4dfdfdc6ff",
          "locked": true,
          "schema_version": 3,
          "solution": false,
          "task": false
        },
        "id": "S8dc10G-r380",
        "colab_type": "text"
      },
      "source": [
        "6. Comment on what you observe:\n",
        "\n",
        "How does the value of $\\alpha$ affect the path followed and steps taken? \n",
        "\n",
        "How does the slope of the function interact with the learning rate? I.e. if we had a function that was a \"shallower\" quadratic function than above or \"steeper\", is our maximally convergent $\\alpha$ larger or smaller than what we have for this function?"
      ]
    },
    {
      "cell_type": "markdown",
      "metadata": {
        "deletable": false,
        "nbgrader": {
          "cell_type": "markdown",
          "checksum": "1c426794ad9b07bda61f5c69522e74f1",
          "grade": true,
          "grade_id": "cell-ffb780a3cbaf207b",
          "locked": false,
          "points": 4,
          "schema_version": 3,
          "solution": true,
          "task": false
        },
        "id": "RgLa6InZr381",
        "colab_type": "text"
      },
      "source": [
        "6a.) Smaller steps cause the path taken to follow more closely to the path of the actual function we are trying to minimize. Larger steps may reach the minimum faster, but also risk overshooting the minimum, and can also result in many step cycles to find the minimum. Larger values of alpha result in a larger step size and smaller values of alpha result in a smaller step size. For efficiency, it is important to find a value of alpha that finds the minimum quickly without stepping too far or too short from the minimum. That is why it can be useful to use a decaying alpha for gradient descent, as the function approaches the minimum.\n",
        "\n",
        "6b.)The slope of the function is proportional to the learning rate. The most efficient way to perform gradient descent is to take large steps where the slope is steep, and smaller steps when the slope is more flat, because that can indicate we are close to the minimum of the function. For a shallower function, the maximally convergent alpha will be larger because the function needs to take larger steps to reach the minimum. For a steeper function, alpha should be smaller because small changes in x result in larger changes in the function we are descending. Basically, for a steeper slope, the maximally converging alpha must be smaller than for a shallow slope in order to scale the step size such that the gradient descent function does not diverge. i.e. step size is not too big. "
      ]
    },
    {
      "cell_type": "markdown",
      "metadata": {
        "deletable": false,
        "editable": false,
        "nbgrader": {
          "cell_type": "markdown",
          "checksum": "dfe0a453659310ae470dac2cbad26cc4",
          "grade": false,
          "grade_id": "cell-6de5c713d0bd8811",
          "locked": true,
          "schema_version": 3,
          "solution": false,
          "task": false
        },
        "id": "PgFdR4Icr381",
        "colab_type": "text"
      },
      "source": [
        "## Part Three: Support-Vector Machine Coding Exercise \n",
        "\n",
        "In this part we will perform multi-class classification with SVM to classify images of clothing from [Fashion MNIST](https://github.com/zalandoresearch/fashion-mnist).\n",
        "\n",
        "The whole point of this dataset is to be a drop-in replacement for MNIST. All the images are 28x28 pixels and there are 10 classes (see the below code). There are 60000 training images and 10000 testing images. However, it is in general much harder than MNIST. \n",
        "\n",
        "To manage the runtime complexity of using this dataset, we will only use 2000 training images, and 10k testing images.\n",
        "\n",
        "If you go to the link above, and scroll to the bottom of the GitHub page, you will find a listing of models with reported accuracies. There are some pretty powerful neural networks which only achieve accuracies in the low 90%. There are reported models that use SVM at about ~88%. Because we are going to \"compete\" with these metrics, we will only use accuracy as a score here. \n",
        "\n",
        "The below code downloads and performs feature extraction on the images using DAISY features, which are similar to SIFT features. It's not too important that you understand exactly what they are, but do know that **it will take a couple minutes to perform this process.**"
      ]
    },
    {
      "cell_type": "markdown",
      "metadata": {
        "deletable": false,
        "editable": false,
        "nbgrader": {
          "cell_type": "markdown",
          "checksum": "50c92932e21c983caab6ae76cac0f0c5",
          "grade": false,
          "grade_id": "cell-623538454adaecc5",
          "locked": true,
          "schema_version": 3,
          "solution": false,
          "task": false
        },
        "id": "8eEDlAWyr382",
        "colab_type": "text"
      },
      "source": [
        "### About the SIFT-like Features (DAISY Features)\n",
        "\n",
        "Just like how we used Haar features before, we need to create some features to classify the images. Using the raw pixel values like before is going to perform rather poorly. Instead we will use computed features called [DAISY](https://www.epfl.ch/labs/cvlab/software/descriptors-and-keypoints/daisy/) features."
      ]
    },
    {
      "cell_type": "code",
      "metadata": {
        "deletable": false,
        "editable": false,
        "nbgrader": {
          "cell_type": "code",
          "checksum": "2c2a61d34256a3a877aa369ef22144e2",
          "grade": false,
          "grade_id": "cell-63f6d27755c8b3ad",
          "locked": true,
          "schema_version": 3,
          "solution": false,
          "task": false
        },
        "id": "f-CyXjb4r382",
        "colab_type": "code",
        "colab": {
          "base_uri": "https://localhost:8080/",
          "height": 238
        },
        "outputId": "f7ebc14f-4219-40bb-9a46-90e0f0fb5bab"
      },
      "source": [
        "#from mnist import get_fashion_mnist\n",
        "from sklearn.model_selection import train_test_split\n",
        "import os \n",
        "import matplotlib.pyplot as plt\n",
        "import time\n",
        "import numpy as np\n",
        "import cv2\n",
        "import skimage\n",
        "from skimage.feature import daisy\n",
        "from sklearn import preprocessing\n",
        "from keras.datasets import fashion_mnist\n",
        "\n",
        "\n",
        "def extract_features(images, visualize_first=False):\n",
        "    feature_size=792\n",
        "    features = np.zeros((images.shape[0], feature_size))\n",
        "    print(\"Extracting features this may take a couple minutes...\")\n",
        "    start = time.time()\n",
        "    for idx, img in enumerate(images):\n",
        "        visualize = False\n",
        "        if(idx == 0 and visualize_first == True):\n",
        "            visualize=True\n",
        "        descs = daisy(images[idx].astype(np.uint8), step=4, radius=8, rings=2,histograms=5,\n",
        "                             visualize=visualize)\n",
        "        if(visualize):\n",
        "            plt.imshow(descs[1])\n",
        "            plt.show()\n",
        "            descs = descs[0]\n",
        "        features[idx, :] = descs.reshape(-1)\n",
        "    end = time.time()\n",
        "    print(\"Done. {:.2f} msec\".format((end-start)*1000))\n",
        "    features = preprocessing.scale(features)\n",
        "    return features\n",
        "\n",
        "\n",
        "def get_fashion_dataset(subset_train=2000, subset_test=10000):\n",
        "    (x_train,y_train),(x_test,y_test)= fashion_mnist.load_data()\n",
        "    x_train,_,y_train,_ = train_test_split(x_train,y_train, train_size=subset_train, \n",
        "                                           stratify=y_train, random_state=42, shuffle=True)\n",
        "    x_test = x_test[:subset_test]\n",
        "    y_test = y_test[:subset_test]\n",
        "    dataset = {\n",
        "        'train': {\n",
        "            'images': x_train,\n",
        "            'labels': y_train,\n",
        "            'features': extract_features(x_train)\n",
        "        },\n",
        "        'test': {\n",
        "            'images': x_test,\n",
        "            'labels': y_test,\n",
        "            'features': extract_features(x_test)\n",
        "        }\n",
        "    }\n",
        "    return dataset\n",
        "\n",
        "def get_label_txt(labels):\n",
        "    '''\n",
        "    labels must be a 1-d integer np.array or an integer label.\n",
        "    will return the string for that label\n",
        "    '''\n",
        "    strings = np.array([\n",
        "            \"t-short/top\",\"trouser\",\"pullover\",\"dress\",\"coat\",\"sandal\",\"shirt\",\"sneaker\",\"bag\",\n",
        "            \"ankle boot\"\n",
        "    ])\n",
        "    return strings[labels]\n",
        "\n",
        "\n",
        "dataset = get_fashion_dataset()"
      ],
      "execution_count": 10,
      "outputs": [
        {
          "output_type": "stream",
          "text": [
            "Using TensorFlow backend.\n"
          ],
          "name": "stderr"
        },
        {
          "output_type": "stream",
          "text": [
            "Downloading data from http://fashion-mnist.s3-website.eu-central-1.amazonaws.com/train-labels-idx1-ubyte.gz\n",
            "32768/29515 [=================================] - 0s 3us/step\n",
            "Downloading data from http://fashion-mnist.s3-website.eu-central-1.amazonaws.com/train-images-idx3-ubyte.gz\n",
            "26427392/26421880 [==============================] - 2s 0us/step\n",
            "Downloading data from http://fashion-mnist.s3-website.eu-central-1.amazonaws.com/t10k-labels-idx1-ubyte.gz\n",
            "8192/5148 [===============================================] - 0s 0us/step\n",
            "Downloading data from http://fashion-mnist.s3-website.eu-central-1.amazonaws.com/t10k-images-idx3-ubyte.gz\n",
            "4423680/4422102 [==============================] - 1s 0us/step\n",
            "Extracting features this may take a couple minutes...\n",
            "Done. 6301.94 msec\n",
            "Extracting features this may take a couple minutes...\n",
            "Done. 30775.17 msec\n"
          ],
          "name": "stdout"
        }
      ]
    },
    {
      "cell_type": "code",
      "metadata": {
        "id": "ZRhnOL0Jr385",
        "colab_type": "code",
        "colab": {}
      },
      "source": [
        "def plot_image(image, label):\n",
        "    plt.figure()\n",
        "    plt.imshow(image, cmap='gray')\n",
        "    label_text = get_label_txt(label)\n",
        "    plt.title(label_text)\n",
        "    plt.show()"
      ],
      "execution_count": 11,
      "outputs": []
    },
    {
      "cell_type": "code",
      "metadata": {
        "id": "Sh9cyo44r386",
        "colab_type": "code",
        "colab": {
          "base_uri": "https://localhost:8080/",
          "height": 298
        },
        "outputId": "905f8d03-9bf7-4ecf-9a09-ad7f59f6d513"
      },
      "source": [
        "# you should see a picture of a piece of clothing and the clothing label in the title.\n",
        "img = dataset[\"train\"][\"images\"][0]\n",
        "label = dataset[\"train\"][\"labels\"][0]\n",
        "plot_image(img, label)\n",
        "\n",
        "### Feel free to edit this code to familiarize yourself with the dataset.\n",
        "print(dataset[\"train\"][\"features\"].shape, dataset[\"test\"][\"features\"].shape)"
      ],
      "execution_count": 12,
      "outputs": [
        {
          "output_type": "display_data",
          "data": {
            "image/png": "[encoded data removed]",
            "text/plain": [
              "<Figure size 432x288 with 1 Axes>"
            ]
          },
          "metadata": {
            "tags": [],
            "needs_background": "light"
          }
        },
        {
          "output_type": "stream",
          "text": [
            "(2000, 792) (10000, 792)\n"
          ],
          "name": "stdout"
        }
      ]
    },
    {
      "cell_type": "markdown",
      "metadata": {
        "deletable": false,
        "editable": false,
        "nbgrader": {
          "cell_type": "markdown",
          "checksum": "960abbe252827c342e4cf70737ba8835",
          "grade": false,
          "grade_id": "cell-c84019a427ec0131",
          "locked": true,
          "schema_version": 3,
          "solution": false,
          "task": false
        },
        "id": "PlUZVjEir388",
        "colab_type": "text"
      },
      "source": [
        "### Q1: Build and Evaluate a SVM Model\n",
        "\n",
        "Previously, we've been using a functional approach to construct models. However, `scikit-learn` does this itself and has enough helper functions so that you can build and test a model in only a couple lines of code. \n",
        "\n",
        "We're now going to use these functions to efficiently:\n",
        "\n",
        "1. Build a SVC model.\n",
        "2. Perform cross validation with **5 splits** and report the **accuracy** (averaged accross folds) (this is the default metric reported) for the model using `cross_val_score`.\n",
        "\n",
        "For the SVC model, you can repeat this process to try different kernels and observe how things change. We've created an initial model below. However when you submit, the below cell should only contain 2-3 lines of code. A line that does (1) and a line that does (2) and maybe some print statements.\n",
        "\n",
        "Cross validation is an extremely expensive process. Be sure to set `n_jobs=-1` in the `cross_val_score` function.\n",
        "\n",
        "**This is an expensive procdure, it can take several minutes.**"
      ]
    },
    {
      "cell_type": "code",
      "metadata": {
        "deletable": false,
        "nbgrader": {
          "cell_type": "code",
          "checksum": "43ec45efad554dcaaf9bab1fe8aab9c5",
          "grade": true,
          "grade_id": "cell-105b3859c73bfebc",
          "locked": false,
          "points": 4,
          "schema_version": 3,
          "solution": true,
          "task": false
        },
        "id": "UT5LGy3cr389",
        "colab_type": "code",
        "colab": {
          "base_uri": "https://localhost:8080/",
          "height": 51
        },
        "outputId": "05aaae21-b2b3-459a-f2ca-cbd33bf9d58e"
      },
      "source": [
        "from sklearn.model_selection import cross_val_score\n",
        "from sklearn.svm import SVC\n",
        "\n",
        "\n",
        "\n",
        "\n",
        "# Here's an initial model you can start with\n",
        "#model = SVC(kernel='rbf', gamma=0.00001, C=1)\n",
        "model = SVC(kernel='rbf', C=1.0, gamma='scale')\n",
        "#model = SVC(kernel='sigmoid', C=1.0, gamma='scale')\n",
        "#model = SVC(kernel='sigmoid', gamma=0.00001, C=1)\n",
        "#model = SVC(kernel='poly', C=1.0, gamma='scale')\n",
        "#model = SVC(kernel='poly', gamma=0.00001, C=1)\n",
        "#model = SVC(kernel='linear', C=1.0, gamma='scale')\n",
        "#model = SVC(kernel='linear', gamma=0.00001, C=1)\n",
        "scores = cross_val_score(model, dataset[\"train\"][\"features\"], dataset[\"train\"][\"labels\"], cv=5, n_jobs=-1)\n",
        "print(scores)\n",
        "print(\"cross-val mean-accuracy: {:.3f}\".format(np.mean(scores)))\n",
        "\n",
        "# YOUR CODE HERE"
      ],
      "execution_count": 13,
      "outputs": [
        {
          "output_type": "stream",
          "text": [
            "[0.8225 0.825  0.825  0.8425 0.795 ]\n",
            "cross-val mean-accuracy: 0.822\n"
          ],
          "name": "stdout"
        }
      ]
    },
    {
      "cell_type": "markdown",
      "metadata": {
        "deletable": false,
        "editable": false,
        "nbgrader": {
          "cell_type": "markdown",
          "checksum": "67e5581721091cb4a0f992159a48be78",
          "grade": false,
          "grade_id": "cell-1d917c5edd506c75",
          "locked": true,
          "schema_version": 3,
          "solution": false,
          "task": false
        },
        "id": "L8q_eNY7r38_",
        "colab_type": "text"
      },
      "source": [
        "### Q2: Cross Validation Grid Search (4 pts)\n",
        "\n",
        "Now we will perform cross validation to select the $C$ and $\\gamma$ paramters for the `rbf` kernel.\n",
        "\n",
        "This should follow what we demonstrated during the hands-on. You should use the Scikit-learn `GridSearchCV` method to perform cross validation. You can use `cv=5` for the number of folds.\n",
        "\n",
        "For a large dataset, this can be an expensive procedure. \n",
        "\n",
        "**First write your solution, only passing in small subset (~100) of the trainin data to your GridSearchCV call. Once you have it working, time it and estimate how long it will take for the full training dataset before executing.**\n",
        "\n",
        "We have two parameters we need to select: $\\gamma$, which is the parameter for the RBF kernel, and the $C$ paramter, which controls the slack penalty. (Refer to the hands on if you forgot about these.)\n",
        "\n",
        "Make sure to read the [docs]() on `GridSearchCV`. Many parameters are useful, such as `n_jobs`. We recommend setting it to `-1` to use all cores on your CPU.\n",
        "\n",
        "You can use the below to methods to plot the grid returned by the `GridSearchCV` method."
      ]
    },
    {
      "cell_type": "code",
      "metadata": {
        "deletable": false,
        "editable": false,
        "nbgrader": {
          "cell_type": "code",
          "checksum": "895011a735e77961bab5cd00c26bbfed",
          "grade": false,
          "grade_id": "cell-7eb3c38f32df4dfdfdc6ff",
          "locked": true,
          "schema_version": 3,
          "solution": false,
          "task": false
        },
        "id": "J6rJLTn6r38_",
        "colab_type": "code",
        "colab": {}
      },
      "source": [
        "class MidpointNormalize(plt.Normalize):\n",
        "\n",
        "    def __init__(self, vmin=None, vmax=None, midpoint=None, clip=False):\n",
        "        self.midpoint = midpoint\n",
        "        super(MidpointNormalize,self).__init__(vmin, vmax, clip)\n",
        "\n",
        "    def __call__(self, value, clip=None):\n",
        "        x, y = [self.vmin, self.midpoint, self.vmax], [0, 0.5, 1]\n",
        "        return np.ma.masked_array(np.interp(value, x, y))\n",
        "def plotSearchGrid(grid):\n",
        "    \n",
        "    scores = [x for x in grid.cv_results_[\"mean_test_score\"]]\n",
        "    scores = np.array(scores).reshape(len(grid.param_grid[\"C\"]), len(grid.param_grid[\"gamma\"]))\n",
        "\n",
        "    plt.figure(figsize=(10, 8))\n",
        "    plt.subplots_adjust(left=.2, right=0.95, bottom=0.15, top=0.95)\n",
        "    plt.imshow(scores, interpolation='nearest', cmap=plt.cm.hot,\n",
        "               norm=MidpointNormalize(vmin=0.2, midpoint=0.92))\n",
        "    plt.xlabel('gamma')\n",
        "    plt.ylabel('C')\n",
        "    plt.colorbar()\n",
        "    plt.xticks(np.arange(len(grid.param_grid[\"gamma\"])), grid.param_grid[\"gamma\"], rotation=45)\n",
        "    plt.yticks(np.arange(len(grid.param_grid[\"C\"])), grid.param_grid[\"C\"])\n",
        "    plt.title('Validation accuracy')\n",
        "    plt.show()"
      ],
      "execution_count": 14,
      "outputs": []
    },
    {
      "cell_type": "code",
      "metadata": {
        "deletable": false,
        "nbgrader": {
          "cell_type": "code",
          "checksum": "52267cd2a24be03aabc8e858ce9ad187",
          "grade": true,
          "grade_id": "cell-6cd3e483f0b9f005",
          "locked": false,
          "points": 4,
          "schema_version": 3,
          "solution": true,
          "task": false
        },
        "id": "t4EkZ3Dvr39B",
        "colab_type": "code",
        "colab": {
          "base_uri": "https://localhost:8080/",
          "height": 1000
        },
        "outputId": "b1aab385-f515-4de7-da13-b559f9462a34"
      },
      "source": [
        "from sklearn.model_selection import cross_val_score, GridSearchCV\n",
        "\n",
        "\n",
        "X = dataset[\"train\"][\"features\"][0:100]\n",
        "y = dataset[\"train\"][\"labels\"][0:100]\n",
        "# Use the following values for your C and gamma values in your grid search.\n",
        "\n",
        "c_range = np.logspace(-5, 4, 5, base=10)\n",
        "g_range = np.logspace(-5, 0, 5, base=10)\n",
        "param_grid = {\n",
        "    'gamma': g_range,\n",
        "    'C': c_range\n",
        "}\n",
        "\n",
        "\n",
        "'''\n",
        "runtimes = []\n",
        "n_samples = [100, 200, 300, 400, 500, 600, 700, 800, 900, 1000]\n",
        "for n in n_samples:\n",
        "    X = dataset[\"train\"][\"features\"][0:n]\n",
        "    y = dataset[\"train\"][\"labels\"][0:n]    \n",
        "    t1 = time.time()\n",
        "    grid = GridSearchCV(SVC(kernel=\"rbf\"), param_grid=param_grid, cv=5, n_jobs=-1)\n",
        "    grid.fit(X, y)\n",
        "    plotSearchGrid(grid)\n",
        "    t2 = time.time()\n",
        "    runtimes.append(t2-t1)\n",
        "plt.plot(n_samples, runtimes)\n",
        "'''\n",
        "\n",
        "\n",
        "t1 = time.time()\n",
        "grid = GridSearchCV(SVC(kernel=\"rbf\"), param_grid=param_grid, cv=5, n_jobs=-1)\n",
        "grid.fit(X, y)\n",
        "plotSearchGrid(grid)\n",
        "t2 = time.time()\n",
        "\n",
        "print(\"Elapsed time for 100 training samples: \" + str(t2-t1))\n",
        "print(\"Estimated time for full training dataset (2000 samples): \" + str(((t2-t1)*20)**2))\n",
        "\n",
        "t1 = time.time()\n",
        "grid = GridSearchCV(SVC(kernel=\"rbf\"), param_grid=param_grid, cv=5, n_jobs=-1)\n",
        "grid.fit(dataset[\"train\"][\"features\"], dataset[\"train\"][\"labels\"])\n",
        "plotSearchGrid(grid)\n",
        "t2 = time.time()\n",
        "print(\"Elapsed time for all 2000 training samples: \" + str(t2-t1))\n",
        "\n"
      ],
      "execution_count": 15,
      "outputs": [
        {
          "output_type": "display_data",
          "data": {
            "image/png": "[encoded data removed]",
            "text/plain": [
              "<Figure size 720x576 with 2 Axes>"
            ]
          },
          "metadata": {
            "tags": [],
            "needs_background": "light"
          }
        },
        {
          "output_type": "stream",
          "text": [
            "Elapsed time for 100 training samples: 1.7213153839111328\n",
            "Estimated time for full training dataset (2000 samples): 1185.1706603556522\n"
          ],
          "name": "stdout"
        },
        {
          "output_type": "display_data",
          "data": {
            "image/png": "[encoded data removed]",
            "text/plain": [
              "<Figure size 720x576 with 2 Axes>"
            ]
          },
          "metadata": {
            "tags": [],
            "needs_background": "light"
          }
        },
        {
          "output_type": "stream",
          "text": [
            "Elapsed time for all 2000 training samples: 359.21747303009033\n"
          ],
          "name": "stdout"
        }
      ]
    },
    {
      "cell_type": "markdown",
      "metadata": {
        "deletable": false,
        "editable": false,
        "nbgrader": {
          "cell_type": "markdown",
          "checksum": "7639fbecb1aa4913536bf7ed7ce770d6",
          "grade": false,
          "grade_id": "cell-f11140f5dc0ae5f5",
          "locked": true,
          "schema_version": 3,
          "solution": false,
          "task": false
        },
        "id": "Z0CXAf3gr39D",
        "colab_type": "text"
      },
      "source": [
        "### Q3: Final Model (3pt)\n",
        "\n",
        "The `GridSearchCV` method automatically returns the best model,traubed on the full training set with the best paramaters in the grid. It can  be accessed using `grid._best_estimator_`.\n",
        "\n",
        "Take the best model and predict on the test set, and report your accuracy and confusion matrix, and print out the best parameters."
      ]
    },
    {
      "cell_type": "code",
      "metadata": {
        "deletable": false,
        "nbgrader": {
          "cell_type": "code",
          "checksum": "2a1e4424b555ab0ad47b3ed4c422e0d6",
          "grade": true,
          "grade_id": "cell-3e8bb3dda302b328",
          "locked": false,
          "points": 3,
          "schema_version": 3,
          "solution": true,
          "task": false
        },
        "id": "h1DmvGxYr39E",
        "colab_type": "code",
        "colab": {
          "base_uri": "https://localhost:8080/",
          "height": 255
        },
        "outputId": "e910aac0-2858-473e-d56a-f7c1307f5da5"
      },
      "source": [
        "from sklearn.metrics import confusion_matrix\n",
        "from sklearn.metrics import accuracy_score\n",
        "\n",
        "print(\"best penalty parameter C: \" + str(grid.best_estimator_.C))\n",
        "print(\"best kernel coefficient parameter gamma: \" + str(grid.best_estimator_.gamma))\n",
        "model = SVC(kernel='rbf', C=grid.best_estimator_.C, gamma=grid.best_estimator_.gamma)\n",
        "model.fit(dataset['train']['features'], dataset['train']['labels'])\n",
        "y_pred = model.predict(dataset['test']['features'])\n",
        "accuracy = accuracy_score (dataset['test']['labels'], y_pred)\n",
        "confMat = confusion_matrix(dataset['test']['labels'], y_pred)\n",
        "print(\"ACCURACY SCORE: \" + str(accuracy))\n",
        "print(\"CONFUSION MATRIX: \\n\" + str(confMat))\n",
        "\n"
      ],
      "execution_count": 16,
      "outputs": [
        {
          "output_type": "stream",
          "text": [
            "best penalty parameter C: 56.23413251903491\n",
            "best kernel coefficient parameter gamma: 0.00017782794100389227\n",
            "ACCURACY SCORE: 0.8439\n",
            "CONFUSION MATRIX: \n",
            "[[781   0  30  43   8   1 120   0  17   0]\n",
            " [  3 952   5  33   2   0   3   0   2   0]\n",
            " [ 26   1 728   9 118   0 112   0   6   0]\n",
            " [ 33  11  19 840  39   0  51   0   7   0]\n",
            " [  2   4  64  33 815   0  80   0   2   0]\n",
            " [  0   0   0   0   0 945   1  38   1  15]\n",
            " [134   2  82  43 145   0 580   0  14   0]\n",
            " [  0   0   0   0   0  38   0 929   0  33]\n",
            " [  7   1   6   4   9   4  14   4 951   0]\n",
            " [  0   0   0   0   0  24   0  57   1 918]]\n"
          ],
          "name": "stdout"
        }
      ]
    },
    {
      "cell_type": "markdown",
      "metadata": {
        "deletable": false,
        "editable": false,
        "nbgrader": {
          "cell_type": "markdown",
          "checksum": "bec74bd080520ab016a3b4f627b8906c",
          "grade": false,
          "grade_id": "cell-0cfd38d5499ca2f7",
          "locked": true,
          "schema_version": 3,
          "solution": false,
          "task": false
        },
        "id": "PKfP2Q9Or39G",
        "colab_type": "text"
      },
      "source": [
        "## Extra Credit (4 pts)\n",
        "\n",
        "Gradient descent is a very simple algorithm conceptually:\n",
        "\n",
        "Given a differentiable function which we would like to minimize, $f: \\mathbb{R}^d \\rightarrow \\mathbb{R}$, and a starting point, $x_k \\in \\mathbb{R}^d$, we iteratively \"step\" in the opposite direction of the gradient evaluated at that point, $\\nabla f(x_k) \\in \\mathbb{R}^d$, with a step size $\\alpha > 0$ until we have converged to a local minimum:\n",
        "\n",
        "$$x_{k+1} = x_k - \\alpha \\nabla f(x_k)$$\n",
        "\n",
        "How can we prove that $-\\nabla f$ is the \"best\" direction to step? Well, it is the best if it is the \"steepest\" descent, AKA the direction of maximum decrease, relative to all other direction vectors of the same length. To prove this, we will assume that the following statement (which can be made more formal based on the smoothness of $f$ and Taylor's theorem):\n",
        "\n",
        "$$ f(x+ \\alpha p) = f(x) +  \\alpha \\nabla f(x)^T p + \\epsilon(x_k) \\quad \\quad |\\epsilon(x_k)| << |f(x)^Tp | $$\n",
        "\n",
        "In the above equation, $p$ determines the direction of the step. Using this assumption, argue that \n",
        "\n",
        "$$ \\min_{p} p^T \\nabla f(x_k) \\quad \\text{subject to} \\,\\, \\|p\\| =1 $$  \n",
        "\n",
        "is a reasonable criteron for selecting the best direction and show that \n",
        "\n",
        "$$\\frac{-\\nabla f(x_k)}{\\|f(x_k)\\|}$$\n",
        "\n",
        "is the solution to this criteron.\n",
        "\n"
      ]
    },
    {
      "cell_type": "markdown",
      "metadata": {
        "deletable": false,
        "nbgrader": {
          "cell_type": "markdown",
          "checksum": "81d204710d944b155e2add4f187983fa",
          "grade": true,
          "grade_id": "cell-d89f20c5fe15cc6f",
          "locked": false,
          "points": 0,
          "schema_version": 3,
          "solution": true,
          "task": false
        },
        "id": "qtBgSpgMr39G",
        "colab_type": "text"
      },
      "source": [
        "I'm not sure I am understanding this correctly, but IF you are saying that we can assume:  \n",
        "$$f(x+ \\alpha p) = f(x) +  \\alpha \\nabla f(x)^T p + \\epsilon(x_k)$$ is effectively equivalent to: $$x_{k+1} = x_k - \\alpha \\nabla f(x_k)$$\n",
        "and that $$|\\epsilon(x_k)|$$ is insignificant with respect to $$|f(x)^Tp |$$\n",
        "Then, we can determine that: $$ \\min_{p} p^T \\nabla f(x_k) \\quad \\text{subject to} \\,\\, \\|p\\| =1 $$ is a reasonable criteron for selecting the best direction and show that \n",
        "\n",
        "$$\\frac{-\\nabla f(x_k)}{\\|\\nabla f(x_k)\\|}$$\n",
        "\n",
        "is the solution to this criteron:  \n",
        "\n",
        "Since p determines the direction of the step, $ \\nabla f(x)^T p$ is the piece of the equation that we can minimize to step in the most negative direction. \n",
        "$$ \\nabla f(x)^T p \\quad = \\quad |\\nabla f(x)^T| \\times |p| \\times \\cos{\\theta}$$  \n",
        "Because of the property of dot products. Since $\\cos{\\theta}$ can range from -1 to 1, we can write:\n",
        "$$-1 \\leq |\\nabla f(x)^T| \\times |p| \\times \\cos{\\theta} \\leq 1$$\n",
        "and\n",
        "$$-1 \\leq \\nabla f(x)^T p \\leq 1$$\n",
        "Without alpha because it is independent of p. Since we want to minimize this function, we can solve this equation for its lower bound:\n",
        "$$\\nabla f(x)^T p = -1$$\n",
        "Solving for p we get:\n",
        "$$p = \\frac{-1}{\\nabla f(x)^T}$$\n",
        "Which is equivalent to:\n",
        "$$min_p = \\frac{-1}{\\nabla f(x)^T} \\times \\frac{\\nabla f(x)}{\\nabla f(x)} \\quad = \\quad \\frac{- \\nabla f(x)}{\\| \\nabla f(x) \\|}$$\n",
        "Generalizing for any given x, \"k\":\n",
        "$$ \\quad \\frac{- \\nabla f(x_k)}{\\| \\nabla f(x_k) \\|}$$"
      ]
    },
    {
      "cell_type": "code",
      "metadata": {
        "id": "lOND-Gb_r39H",
        "colab_type": "code",
        "colab": {}
      },
      "source": [
        ""
      ],
      "execution_count": 16,
      "outputs": []
    }
  ]
}